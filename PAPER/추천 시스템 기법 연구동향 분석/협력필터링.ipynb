{
 "cells": [
  {
   "cell_type": "code",
   "execution_count": 1,
   "id": "4010ea88",
   "metadata": {},
   "outputs": [],
   "source": [
    "import pandas as pd\n",
    "import numpy as np\n",
    "\n",
    "import warnings\n",
    "warnings.filterwarnings('ignore')"
   ]
  },
  {
   "cell_type": "code",
   "execution_count": 2,
   "id": "ee493795",
   "metadata": {},
   "outputs": [],
   "source": [
    "U = pd.read_csv(\"Users.csv\")"
   ]
  },
  {
   "cell_type": "code",
   "execution_count": 264,
   "id": "66b67ab0",
   "metadata": {},
   "outputs": [],
   "source": [
    "I = pd.read_csv(\"Books.csv\")"
   ]
  },
  {
   "cell_type": "code",
   "execution_count": 8,
   "id": "529b6d16",
   "metadata": {},
   "outputs": [],
   "source": [
    "R = pd.read_csv(\"Ratings.csv\")"
   ]
  },
  {
   "cell_type": "code",
   "execution_count": 3,
   "id": "5e76c4f0",
   "metadata": {},
   "outputs": [
    {
     "data": {
      "text/html": [
       "<div>\n",
       "<style scoped>\n",
       "    .dataframe tbody tr th:only-of-type {\n",
       "        vertical-align: middle;\n",
       "    }\n",
       "\n",
       "    .dataframe tbody tr th {\n",
       "        vertical-align: top;\n",
       "    }\n",
       "\n",
       "    .dataframe thead th {\n",
       "        text-align: right;\n",
       "    }\n",
       "</style>\n",
       "<table border=\"1\" class=\"dataframe\">\n",
       "  <thead>\n",
       "    <tr style=\"text-align: right;\">\n",
       "      <th></th>\n",
       "      <th>User-ID</th>\n",
       "      <th>Location</th>\n",
       "      <th>Age</th>\n",
       "    </tr>\n",
       "  </thead>\n",
       "  <tbody>\n",
       "    <tr>\n",
       "      <th>0</th>\n",
       "      <td>1</td>\n",
       "      <td>nyc, new york, usa</td>\n",
       "      <td>NaN</td>\n",
       "    </tr>\n",
       "    <tr>\n",
       "      <th>1</th>\n",
       "      <td>2</td>\n",
       "      <td>stockton, california, usa</td>\n",
       "      <td>18.0</td>\n",
       "    </tr>\n",
       "    <tr>\n",
       "      <th>2</th>\n",
       "      <td>3</td>\n",
       "      <td>moscow, yukon territory, russia</td>\n",
       "      <td>NaN</td>\n",
       "    </tr>\n",
       "    <tr>\n",
       "      <th>3</th>\n",
       "      <td>4</td>\n",
       "      <td>porto, v.n.gaia, portugal</td>\n",
       "      <td>17.0</td>\n",
       "    </tr>\n",
       "    <tr>\n",
       "      <th>4</th>\n",
       "      <td>5</td>\n",
       "      <td>farnborough, hants, united kingdom</td>\n",
       "      <td>NaN</td>\n",
       "    </tr>\n",
       "  </tbody>\n",
       "</table>\n",
       "</div>"
      ],
      "text/plain": [
       "   User-ID                            Location   Age\n",
       "0        1                  nyc, new york, usa   NaN\n",
       "1        2           stockton, california, usa  18.0\n",
       "2        3     moscow, yukon territory, russia   NaN\n",
       "3        4           porto, v.n.gaia, portugal  17.0\n",
       "4        5  farnborough, hants, united kingdom   NaN"
      ]
     },
     "execution_count": 3,
     "metadata": {},
     "output_type": "execute_result"
    }
   ],
   "source": [
    "U.head()"
   ]
  },
  {
   "cell_type": "code",
   "execution_count": 4,
   "id": "a6503e79",
   "metadata": {},
   "outputs": [],
   "source": [
    "U['Nation'] = U.Location.str.split(',').str[-1]"
   ]
  },
  {
   "cell_type": "code",
   "execution_count": 5,
   "id": "fbf04db1",
   "metadata": {},
   "outputs": [],
   "source": [
    "U['City1'] = U.Location.str.split(',').str[0]"
   ]
  },
  {
   "cell_type": "code",
   "execution_count": 6,
   "id": "2c8c0d53",
   "metadata": {},
   "outputs": [],
   "source": [
    "U['City2'] = U.Location.str.split(',').str[-2]"
   ]
  },
  {
   "cell_type": "code",
   "execution_count": 7,
   "id": "88453f01",
   "metadata": {
    "scrolled": true
   },
   "outputs": [
    {
     "data": {
      "text/html": [
       "<div>\n",
       "<style scoped>\n",
       "    .dataframe tbody tr th:only-of-type {\n",
       "        vertical-align: middle;\n",
       "    }\n",
       "\n",
       "    .dataframe tbody tr th {\n",
       "        vertical-align: top;\n",
       "    }\n",
       "\n",
       "    .dataframe thead th {\n",
       "        text-align: right;\n",
       "    }\n",
       "</style>\n",
       "<table border=\"1\" class=\"dataframe\">\n",
       "  <thead>\n",
       "    <tr style=\"text-align: right;\">\n",
       "      <th></th>\n",
       "      <th>User-ID</th>\n",
       "      <th>Location</th>\n",
       "      <th>Age</th>\n",
       "      <th>Nation</th>\n",
       "      <th>City1</th>\n",
       "      <th>City2</th>\n",
       "    </tr>\n",
       "  </thead>\n",
       "  <tbody>\n",
       "    <tr>\n",
       "      <th>0</th>\n",
       "      <td>1</td>\n",
       "      <td>nyc, new york, usa</td>\n",
       "      <td>NaN</td>\n",
       "      <td>usa</td>\n",
       "      <td>nyc</td>\n",
       "      <td>new york</td>\n",
       "    </tr>\n",
       "    <tr>\n",
       "      <th>1</th>\n",
       "      <td>2</td>\n",
       "      <td>stockton, california, usa</td>\n",
       "      <td>18.0</td>\n",
       "      <td>usa</td>\n",
       "      <td>stockton</td>\n",
       "      <td>california</td>\n",
       "    </tr>\n",
       "    <tr>\n",
       "      <th>2</th>\n",
       "      <td>3</td>\n",
       "      <td>moscow, yukon territory, russia</td>\n",
       "      <td>NaN</td>\n",
       "      <td>russia</td>\n",
       "      <td>moscow</td>\n",
       "      <td>yukon territory</td>\n",
       "    </tr>\n",
       "    <tr>\n",
       "      <th>3</th>\n",
       "      <td>4</td>\n",
       "      <td>porto, v.n.gaia, portugal</td>\n",
       "      <td>17.0</td>\n",
       "      <td>portugal</td>\n",
       "      <td>porto</td>\n",
       "      <td>v.n.gaia</td>\n",
       "    </tr>\n",
       "    <tr>\n",
       "      <th>4</th>\n",
       "      <td>5</td>\n",
       "      <td>farnborough, hants, united kingdom</td>\n",
       "      <td>NaN</td>\n",
       "      <td>united kingdom</td>\n",
       "      <td>farnborough</td>\n",
       "      <td>hants</td>\n",
       "    </tr>\n",
       "  </tbody>\n",
       "</table>\n",
       "</div>"
      ],
      "text/plain": [
       "   User-ID                            Location   Age           Nation  \\\n",
       "0        1                  nyc, new york, usa   NaN              usa   \n",
       "1        2           stockton, california, usa  18.0              usa   \n",
       "2        3     moscow, yukon territory, russia   NaN           russia   \n",
       "3        4           porto, v.n.gaia, portugal  17.0         portugal   \n",
       "4        5  farnborough, hants, united kingdom   NaN   united kingdom   \n",
       "\n",
       "         City1             City2  \n",
       "0          nyc          new york  \n",
       "1     stockton        california  \n",
       "2       moscow   yukon territory  \n",
       "3        porto          v.n.gaia  \n",
       "4  farnborough             hants  "
      ]
     },
     "execution_count": 7,
     "metadata": {},
     "output_type": "execute_result"
    }
   ],
   "source": [
    "U.head()"
   ]
  },
  {
   "cell_type": "code",
   "execution_count": 9,
   "id": "db383b74",
   "metadata": {},
   "outputs": [
    {
     "data": {
      "text/html": [
       "<div>\n",
       "<style scoped>\n",
       "    .dataframe tbody tr th:only-of-type {\n",
       "        vertical-align: middle;\n",
       "    }\n",
       "\n",
       "    .dataframe tbody tr th {\n",
       "        vertical-align: top;\n",
       "    }\n",
       "\n",
       "    .dataframe thead th {\n",
       "        text-align: right;\n",
       "    }\n",
       "</style>\n",
       "<table border=\"1\" class=\"dataframe\">\n",
       "  <thead>\n",
       "    <tr style=\"text-align: right;\">\n",
       "      <th></th>\n",
       "      <th>User-ID</th>\n",
       "      <th>ISBN</th>\n",
       "      <th>Book-Rating</th>\n",
       "    </tr>\n",
       "  </thead>\n",
       "  <tbody>\n",
       "    <tr>\n",
       "      <th>0</th>\n",
       "      <td>276725</td>\n",
       "      <td>034545104X</td>\n",
       "      <td>0</td>\n",
       "    </tr>\n",
       "    <tr>\n",
       "      <th>1</th>\n",
       "      <td>276726</td>\n",
       "      <td>0155061224</td>\n",
       "      <td>5</td>\n",
       "    </tr>\n",
       "    <tr>\n",
       "      <th>2</th>\n",
       "      <td>276727</td>\n",
       "      <td>0446520802</td>\n",
       "      <td>0</td>\n",
       "    </tr>\n",
       "    <tr>\n",
       "      <th>3</th>\n",
       "      <td>276729</td>\n",
       "      <td>052165615X</td>\n",
       "      <td>3</td>\n",
       "    </tr>\n",
       "    <tr>\n",
       "      <th>4</th>\n",
       "      <td>276729</td>\n",
       "      <td>0521795028</td>\n",
       "      <td>6</td>\n",
       "    </tr>\n",
       "  </tbody>\n",
       "</table>\n",
       "</div>"
      ],
      "text/plain": [
       "   User-ID        ISBN  Book-Rating\n",
       "0   276725  034545104X            0\n",
       "1   276726  0155061224            5\n",
       "2   276727  0446520802            0\n",
       "3   276729  052165615X            3\n",
       "4   276729  0521795028            6"
      ]
     },
     "execution_count": 9,
     "metadata": {},
     "output_type": "execute_result"
    }
   ],
   "source": [
    "R.head()"
   ]
  },
  {
   "cell_type": "code",
   "execution_count": 220,
   "id": "c7625864",
   "metadata": {},
   "outputs": [],
   "source": [
    "R_u_cnt = R.groupby('User-ID').ISBN.size().reset_index(name = 'User_cnt')"
   ]
  },
  {
   "cell_type": "code",
   "execution_count": 226,
   "id": "a47c4b53",
   "metadata": {},
   "outputs": [],
   "source": [
    "more15_user = R_u_cnt[R_u_cnt.User_cnt >= 15]"
   ]
  },
  {
   "cell_type": "markdown",
   "id": "5e641511",
   "metadata": {},
   "source": [
    "구매 이력이 15번 이상인 User 집단만 추출"
   ]
  },
  {
   "cell_type": "code",
   "execution_count": 230,
   "id": "5b496beb",
   "metadata": {},
   "outputs": [],
   "source": [
    "R_i_cnt = R.groupby('ISBN').ISBN.size().reset_index(name = 'ISBN_cnt')"
   ]
  },
  {
   "cell_type": "code",
   "execution_count": 231,
   "id": "6d42a0b9",
   "metadata": {},
   "outputs": [],
   "source": [
    "more15_book = R_i_cnt[R_i_cnt.ISBN_cnt >= 15]"
   ]
  },
  {
   "cell_type": "markdown",
   "id": "3b96d3f4",
   "metadata": {},
   "source": [
    "구매 이력이 15번 이상인 User 집단만 추출"
   ]
  },
  {
   "cell_type": "code",
   "execution_count": 232,
   "id": "73b073ae",
   "metadata": {},
   "outputs": [],
   "source": [
    "R = R[(R['User-ID'].isin(more15_user['User-ID'])) & (R.ISBN.isin(more15_book.ISBN))]"
   ]
  },
  {
   "cell_type": "code",
   "execution_count": 233,
   "id": "41d3bf85",
   "metadata": {
    "scrolled": false
   },
   "outputs": [
    {
     "data": {
      "text/plain": [
       "(8930, 8429)"
      ]
     },
     "execution_count": 233,
     "metadata": {},
     "output_type": "execute_result"
    }
   ],
   "source": [
    "R['User-ID'].nunique(), R.ISBN.nunique()"
   ]
  },
  {
   "cell_type": "markdown",
   "id": "8935ddb7",
   "metadata": {},
   "source": [
    "데이터 필터링 후 User는 8,930명, 도서는 8,429권이다."
   ]
  },
  {
   "cell_type": "code",
   "execution_count": 237,
   "id": "eef0c889",
   "metadata": {},
   "outputs": [],
   "source": [
    "R_ct = pd.crosstab(R['User-ID'], R.ISBN, aggfunc = lambda x : x, values = R['Book-Rating'])"
   ]
  },
  {
   "cell_type": "code",
   "execution_count": 238,
   "id": "a27f1c85",
   "metadata": {},
   "outputs": [
    {
     "data": {
      "text/html": [
       "<div>\n",
       "<style scoped>\n",
       "    .dataframe tbody tr th:only-of-type {\n",
       "        vertical-align: middle;\n",
       "    }\n",
       "\n",
       "    .dataframe tbody tr th {\n",
       "        vertical-align: top;\n",
       "    }\n",
       "\n",
       "    .dataframe thead th {\n",
       "        text-align: right;\n",
       "    }\n",
       "</style>\n",
       "<table border=\"1\" class=\"dataframe\">\n",
       "  <thead>\n",
       "    <tr style=\"text-align: right;\">\n",
       "      <th>ISBN</th>\n",
       "      <th>0006493580</th>\n",
       "      <th>000649840X</th>\n",
       "      <th>0006512135</th>\n",
       "      <th>0006514006</th>\n",
       "      <th>0006514855</th>\n",
       "      <th>0006547834</th>\n",
       "      <th>0006550576</th>\n",
       "      <th>0006550681</th>\n",
       "      <th>0006550789</th>\n",
       "      <th>0007108265</th>\n",
       "      <th>...</th>\n",
       "      <th>8472236552</th>\n",
       "      <th>8478884459</th>\n",
       "      <th>8478884955</th>\n",
       "      <th>8495501198</th>\n",
       "      <th>8495618605</th>\n",
       "      <th>8497593588</th>\n",
       "      <th>8806143042</th>\n",
       "      <th>8817125539</th>\n",
       "      <th>8873122933</th>\n",
       "      <th>950491036X</th>\n",
       "    </tr>\n",
       "    <tr>\n",
       "      <th>User-ID</th>\n",
       "      <th></th>\n",
       "      <th></th>\n",
       "      <th></th>\n",
       "      <th></th>\n",
       "      <th></th>\n",
       "      <th></th>\n",
       "      <th></th>\n",
       "      <th></th>\n",
       "      <th></th>\n",
       "      <th></th>\n",
       "      <th></th>\n",
       "      <th></th>\n",
       "      <th></th>\n",
       "      <th></th>\n",
       "      <th></th>\n",
       "      <th></th>\n",
       "      <th></th>\n",
       "      <th></th>\n",
       "      <th></th>\n",
       "      <th></th>\n",
       "      <th></th>\n",
       "    </tr>\n",
       "  </thead>\n",
       "  <tbody>\n",
       "    <tr>\n",
       "      <th>8</th>\n",
       "      <td>NaN</td>\n",
       "      <td>NaN</td>\n",
       "      <td>NaN</td>\n",
       "      <td>NaN</td>\n",
       "      <td>NaN</td>\n",
       "      <td>NaN</td>\n",
       "      <td>NaN</td>\n",
       "      <td>NaN</td>\n",
       "      <td>NaN</td>\n",
       "      <td>NaN</td>\n",
       "      <td>...</td>\n",
       "      <td>NaN</td>\n",
       "      <td>NaN</td>\n",
       "      <td>NaN</td>\n",
       "      <td>NaN</td>\n",
       "      <td>NaN</td>\n",
       "      <td>NaN</td>\n",
       "      <td>NaN</td>\n",
       "      <td>NaN</td>\n",
       "      <td>NaN</td>\n",
       "      <td>NaN</td>\n",
       "    </tr>\n",
       "    <tr>\n",
       "      <th>242</th>\n",
       "      <td>NaN</td>\n",
       "      <td>NaN</td>\n",
       "      <td>NaN</td>\n",
       "      <td>NaN</td>\n",
       "      <td>NaN</td>\n",
       "      <td>NaN</td>\n",
       "      <td>NaN</td>\n",
       "      <td>NaN</td>\n",
       "      <td>NaN</td>\n",
       "      <td>NaN</td>\n",
       "      <td>...</td>\n",
       "      <td>NaN</td>\n",
       "      <td>NaN</td>\n",
       "      <td>NaN</td>\n",
       "      <td>NaN</td>\n",
       "      <td>NaN</td>\n",
       "      <td>NaN</td>\n",
       "      <td>NaN</td>\n",
       "      <td>NaN</td>\n",
       "      <td>NaN</td>\n",
       "      <td>NaN</td>\n",
       "    </tr>\n",
       "    <tr>\n",
       "      <th>243</th>\n",
       "      <td>NaN</td>\n",
       "      <td>NaN</td>\n",
       "      <td>NaN</td>\n",
       "      <td>NaN</td>\n",
       "      <td>NaN</td>\n",
       "      <td>NaN</td>\n",
       "      <td>NaN</td>\n",
       "      <td>NaN</td>\n",
       "      <td>NaN</td>\n",
       "      <td>NaN</td>\n",
       "      <td>...</td>\n",
       "      <td>NaN</td>\n",
       "      <td>NaN</td>\n",
       "      <td>NaN</td>\n",
       "      <td>NaN</td>\n",
       "      <td>NaN</td>\n",
       "      <td>NaN</td>\n",
       "      <td>NaN</td>\n",
       "      <td>NaN</td>\n",
       "      <td>NaN</td>\n",
       "      <td>NaN</td>\n",
       "    </tr>\n",
       "    <tr>\n",
       "      <th>254</th>\n",
       "      <td>NaN</td>\n",
       "      <td>NaN</td>\n",
       "      <td>NaN</td>\n",
       "      <td>NaN</td>\n",
       "      <td>NaN</td>\n",
       "      <td>NaN</td>\n",
       "      <td>NaN</td>\n",
       "      <td>NaN</td>\n",
       "      <td>NaN</td>\n",
       "      <td>NaN</td>\n",
       "      <td>...</td>\n",
       "      <td>NaN</td>\n",
       "      <td>NaN</td>\n",
       "      <td>NaN</td>\n",
       "      <td>NaN</td>\n",
       "      <td>NaN</td>\n",
       "      <td>NaN</td>\n",
       "      <td>NaN</td>\n",
       "      <td>NaN</td>\n",
       "      <td>NaN</td>\n",
       "      <td>NaN</td>\n",
       "    </tr>\n",
       "    <tr>\n",
       "      <th>383</th>\n",
       "      <td>NaN</td>\n",
       "      <td>NaN</td>\n",
       "      <td>NaN</td>\n",
       "      <td>NaN</td>\n",
       "      <td>NaN</td>\n",
       "      <td>NaN</td>\n",
       "      <td>NaN</td>\n",
       "      <td>NaN</td>\n",
       "      <td>NaN</td>\n",
       "      <td>NaN</td>\n",
       "      <td>...</td>\n",
       "      <td>NaN</td>\n",
       "      <td>NaN</td>\n",
       "      <td>NaN</td>\n",
       "      <td>NaN</td>\n",
       "      <td>NaN</td>\n",
       "      <td>NaN</td>\n",
       "      <td>NaN</td>\n",
       "      <td>NaN</td>\n",
       "      <td>NaN</td>\n",
       "      <td>NaN</td>\n",
       "    </tr>\n",
       "  </tbody>\n",
       "</table>\n",
       "<p>5 rows × 8429 columns</p>\n",
       "</div>"
      ],
      "text/plain": [
       "ISBN     0006493580  000649840X  0006512135  0006514006  0006514855  \\\n",
       "User-ID                                                               \n",
       "8               NaN         NaN         NaN         NaN         NaN   \n",
       "242             NaN         NaN         NaN         NaN         NaN   \n",
       "243             NaN         NaN         NaN         NaN         NaN   \n",
       "254             NaN         NaN         NaN         NaN         NaN   \n",
       "383             NaN         NaN         NaN         NaN         NaN   \n",
       "\n",
       "ISBN     0006547834  0006550576  0006550681  0006550789  0007108265  ...  \\\n",
       "User-ID                                                              ...   \n",
       "8               NaN         NaN         NaN         NaN         NaN  ...   \n",
       "242             NaN         NaN         NaN         NaN         NaN  ...   \n",
       "243             NaN         NaN         NaN         NaN         NaN  ...   \n",
       "254             NaN         NaN         NaN         NaN         NaN  ...   \n",
       "383             NaN         NaN         NaN         NaN         NaN  ...   \n",
       "\n",
       "ISBN     8472236552  8478884459  8478884955  8495501198  8495618605  \\\n",
       "User-ID                                                               \n",
       "8               NaN         NaN         NaN         NaN         NaN   \n",
       "242             NaN         NaN         NaN         NaN         NaN   \n",
       "243             NaN         NaN         NaN         NaN         NaN   \n",
       "254             NaN         NaN         NaN         NaN         NaN   \n",
       "383             NaN         NaN         NaN         NaN         NaN   \n",
       "\n",
       "ISBN     8497593588  8806143042  8817125539  8873122933  950491036X  \n",
       "User-ID                                                              \n",
       "8               NaN         NaN         NaN         NaN         NaN  \n",
       "242             NaN         NaN         NaN         NaN         NaN  \n",
       "243             NaN         NaN         NaN         NaN         NaN  \n",
       "254             NaN         NaN         NaN         NaN         NaN  \n",
       "383             NaN         NaN         NaN         NaN         NaN  \n",
       "\n",
       "[5 rows x 8429 columns]"
      ]
     },
     "execution_count": 238,
     "metadata": {},
     "output_type": "execute_result"
    }
   ],
   "source": [
    "R_ct.head()"
   ]
  },
  {
   "cell_type": "markdown",
   "id": "c9d902ef",
   "metadata": {},
   "source": [
    "데이터가 매우 sparse한 것을 알 수 있다. -> 이를 해결하기 위해 협력 필터링 기법과 사회연결망 기법을 결합한 분석의 시도가 존재했다(Shin et al, 2012)"
   ]
  },
  {
   "cell_type": "code",
   "execution_count": 239,
   "id": "3bb96f7d",
   "metadata": {},
   "outputs": [],
   "source": [
    "R_ct.fillna(-1, inplace = True)"
   ]
  },
  {
   "cell_type": "markdown",
   "id": "0ac6c479",
   "metadata": {},
   "source": [
    "아직 사용하거나 구매하지 않은 Item에 대해서는 -1로 결측치를 채운다. "
   ]
  },
  {
   "cell_type": "code",
   "execution_count": 44,
   "id": "410f9267",
   "metadata": {},
   "outputs": [],
   "source": [
    "from sklearn.metrics.pairwise import cosine_similarity"
   ]
  },
  {
   "cell_type": "code",
   "execution_count": 240,
   "id": "20e8531e",
   "metadata": {},
   "outputs": [],
   "source": [
    "R_cos_sim = cosine_similarity(R_ct)"
   ]
  },
  {
   "cell_type": "code",
   "execution_count": 241,
   "id": "47bfff26",
   "metadata": {
    "scrolled": false
   },
   "outputs": [
    {
     "data": {
      "text/plain": [
       "(8930, 8930)"
      ]
     },
     "execution_count": 241,
     "metadata": {},
     "output_type": "execute_result"
    }
   ],
   "source": [
    "R_cos_sim.shape"
   ]
  },
  {
   "cell_type": "markdown",
   "id": "a824b378",
   "metadata": {},
   "source": [
    "무난하게 User - Item Cross Table에서 코사인 유사도 기준 상위 5명의 User가 구매한 도서 중 해당 User가 아직 구매하지 않은 Item 추천"
   ]
  },
  {
   "cell_type": "code",
   "execution_count": 333,
   "id": "6732d488",
   "metadata": {},
   "outputs": [],
   "source": [
    "def get_recommendation_by_top_5(user_idx) :\n",
    "    target_user = R_ct.iloc[user_idx]\n",
    "    target_user_buyed = target_user[target_user != -1]\n",
    "    user_buyed_titles = I[I.ISBN.isin(target_user_buyed.index)]['Book-Title']\n",
    "    top5_idx = np.argsort(R_cos_sim[user_idx])[-6:-1]\n",
    "    top5_data = R_ct.iloc[top5_idx]\n",
    "    purchase_record = top5_data.sum(axis = 0)\n",
    "    buyed = purchase_record[purchase_record > -5].index.tolist()\n",
    "    \n",
    "    rec_books_idx = list(set(buyed).difference(set(target_user_buyed.index)))\n",
    "    rec_books_titles = I[I.ISBN.isin(rec_books_idx)].iloc[:, [1,2,3,4]]\n",
    "    print(f'User{R_ct.index[user_idx]}가 구매한 도서 목록은 {user_buyed_titles.values}')\n",
    "    return rec_books_titles"
   ]
  },
  {
   "cell_type": "code",
   "execution_count": 334,
   "id": "dae4743d",
   "metadata": {
    "scrolled": false
   },
   "outputs": [
    {
     "name": "stdout",
     "output_type": "stream",
     "text": [
      "User242가 구매한 도서 목록은 ['Wild Animus' 'The Martian Chronicles']\n"
     ]
    },
    {
     "data": {
      "text/html": [
       "<div>\n",
       "<style scoped>\n",
       "    .dataframe tbody tr th:only-of-type {\n",
       "        vertical-align: middle;\n",
       "    }\n",
       "\n",
       "    .dataframe tbody tr th {\n",
       "        vertical-align: top;\n",
       "    }\n",
       "\n",
       "    .dataframe thead th {\n",
       "        text-align: right;\n",
       "    }\n",
       "</style>\n",
       "<table border=\"1\" class=\"dataframe\">\n",
       "  <thead>\n",
       "    <tr style=\"text-align: right;\">\n",
       "      <th></th>\n",
       "      <th>Book-Title</th>\n",
       "      <th>Book-Author</th>\n",
       "      <th>Year-Of-Publication</th>\n",
       "      <th>Publisher</th>\n",
       "    </tr>\n",
       "  </thead>\n",
       "  <tbody>\n",
       "    <tr>\n",
       "      <th>1532</th>\n",
       "      <td>Adventures of Huckleberry Finn (Dover Thrift E...</td>\n",
       "      <td>Mark Twain</td>\n",
       "      <td>1994</td>\n",
       "      <td>Dover Publications</td>\n",
       "    </tr>\n",
       "    <tr>\n",
       "      <th>2230</th>\n",
       "      <td>Fahrenheit 451</td>\n",
       "      <td>RAY BRADBURY</td>\n",
       "      <td>1987</td>\n",
       "      <td>Del Rey</td>\n",
       "    </tr>\n",
       "    <tr>\n",
       "      <th>3078</th>\n",
       "      <td>Call of the Wild</td>\n",
       "      <td>Jack London</td>\n",
       "      <td>0</td>\n",
       "      <td>Selldowns/no More Orders</td>\n",
       "    </tr>\n",
       "    <tr>\n",
       "      <th>9175</th>\n",
       "      <td>A Connecticut Yankee in King Arthur's Court (B...</td>\n",
       "      <td>Mark Twain</td>\n",
       "      <td>1994</td>\n",
       "      <td>Bantam Books</td>\n",
       "    </tr>\n",
       "    <tr>\n",
       "      <th>9415</th>\n",
       "      <td>Heaven</td>\n",
       "      <td>V.C. Andrews</td>\n",
       "      <td>1985</td>\n",
       "      <td>Pocket</td>\n",
       "    </tr>\n",
       "    <tr>\n",
       "      <th>10296</th>\n",
       "      <td>Don't Stand Too Close to a Naked Man</td>\n",
       "      <td>Tim Allen</td>\n",
       "      <td>1994</td>\n",
       "      <td>Hyperion Books</td>\n",
       "    </tr>\n",
       "    <tr>\n",
       "      <th>12137</th>\n",
       "      <td>The Adventures of Huckleberry Finn (Bantam Cla...</td>\n",
       "      <td>MARK TWAIN</td>\n",
       "      <td>1981</td>\n",
       "      <td>Bantam</td>\n",
       "    </tr>\n",
       "    <tr>\n",
       "      <th>12731</th>\n",
       "      <td>The Illustrated Man (Grand Master Editions)</td>\n",
       "      <td>RAY BRADBURY</td>\n",
       "      <td>1983</td>\n",
       "      <td>Spectra</td>\n",
       "    </tr>\n",
       "    <tr>\n",
       "      <th>13095</th>\n",
       "      <td>Dandelion Wine (Grand Master Editions)</td>\n",
       "      <td>RAY BRADBURY</td>\n",
       "      <td>1985</td>\n",
       "      <td>Bantam</td>\n",
       "    </tr>\n",
       "    <tr>\n",
       "      <th>20747</th>\n",
       "      <td>The Adventures of Tom Sawyer (Adventures of To...</td>\n",
       "      <td>MARK TWAIN</td>\n",
       "      <td>1995</td>\n",
       "      <td>Bantam</td>\n",
       "    </tr>\n",
       "    <tr>\n",
       "      <th>26303</th>\n",
       "      <td>From the Dust Returned</td>\n",
       "      <td>Ray Bradbury</td>\n",
       "      <td>2002</td>\n",
       "      <td>Avon</td>\n",
       "    </tr>\n",
       "    <tr>\n",
       "      <th>30131</th>\n",
       "      <td>From the Dust Returned: A Novel</td>\n",
       "      <td>Ray Bradbury</td>\n",
       "      <td>2001</td>\n",
       "      <td>William Morrow &amp;amp; Company</td>\n",
       "    </tr>\n",
       "    <tr>\n",
       "      <th>30726</th>\n",
       "      <td>Adventures of Huckleberry Finn</td>\n",
       "      <td>Mark Twain</td>\n",
       "      <td>1959</td>\n",
       "      <td>New Amer Library Classics</td>\n",
       "    </tr>\n",
       "    <tr>\n",
       "      <th>45320</th>\n",
       "      <td>The Adventures of Huckleberry Finn (Penguin Cl...</td>\n",
       "      <td>Mark Twain</td>\n",
       "      <td>1986</td>\n",
       "      <td>Penguin Books</td>\n",
       "    </tr>\n",
       "    <tr>\n",
       "      <th>45461</th>\n",
       "      <td>The Mysterious Stranger and Other Stories (Dov...</td>\n",
       "      <td>Mark Twain</td>\n",
       "      <td>1992</td>\n",
       "      <td>Dover Publications</td>\n",
       "    </tr>\n",
       "  </tbody>\n",
       "</table>\n",
       "</div>"
      ],
      "text/plain": [
       "                                              Book-Title   Book-Author  \\\n",
       "1532   Adventures of Huckleberry Finn (Dover Thrift E...    Mark Twain   \n",
       "2230                                      Fahrenheit 451  RAY BRADBURY   \n",
       "3078                                    Call of the Wild   Jack London   \n",
       "9175   A Connecticut Yankee in King Arthur's Court (B...    Mark Twain   \n",
       "9415                                              Heaven  V.C. Andrews   \n",
       "10296               Don't Stand Too Close to a Naked Man     Tim Allen   \n",
       "12137  The Adventures of Huckleberry Finn (Bantam Cla...    MARK TWAIN   \n",
       "12731        The Illustrated Man (Grand Master Editions)  RAY BRADBURY   \n",
       "13095             Dandelion Wine (Grand Master Editions)  RAY BRADBURY   \n",
       "20747  The Adventures of Tom Sawyer (Adventures of To...    MARK TWAIN   \n",
       "26303                             From the Dust Returned  Ray Bradbury   \n",
       "30131                    From the Dust Returned: A Novel  Ray Bradbury   \n",
       "30726                     Adventures of Huckleberry Finn    Mark Twain   \n",
       "45320  The Adventures of Huckleberry Finn (Penguin Cl...    Mark Twain   \n",
       "45461  The Mysterious Stranger and Other Stories (Dov...    Mark Twain   \n",
       "\n",
       "      Year-Of-Publication                     Publisher  \n",
       "1532                 1994            Dover Publications  \n",
       "2230                 1987                       Del Rey  \n",
       "3078                    0      Selldowns/no More Orders  \n",
       "9175                 1994                  Bantam Books  \n",
       "9415                 1985                        Pocket  \n",
       "10296                1994                Hyperion Books  \n",
       "12137                1981                        Bantam  \n",
       "12731                1983                       Spectra  \n",
       "13095                1985                        Bantam  \n",
       "20747                1995                        Bantam  \n",
       "26303                2002                          Avon  \n",
       "30131                2001  William Morrow &amp; Company  \n",
       "30726                1959     New Amer Library Classics  \n",
       "45320                1986                 Penguin Books  \n",
       "45461                1992            Dover Publications  "
      ]
     },
     "execution_count": 334,
     "metadata": {},
     "output_type": "execute_result"
    }
   ],
   "source": [
    "get_recommendation_by_top_5(1)"
   ]
  }
 ],
 "metadata": {
  "kernelspec": {
   "display_name": "Python 3",
   "language": "python",
   "name": "python3"
  },
  "language_info": {
   "codemirror_mode": {
    "name": "ipython",
    "version": 3
   },
   "file_extension": ".py",
   "mimetype": "text/x-python",
   "name": "python",
   "nbconvert_exporter": "python",
   "pygments_lexer": "ipython3",
   "version": "3.8.8"
  }
 },
 "nbformat": 4,
 "nbformat_minor": 5
}
